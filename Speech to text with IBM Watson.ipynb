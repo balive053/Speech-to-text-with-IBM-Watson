{
 "cells": [
  {
   "cell_type": "markdown",
   "metadata": {},
   "source": [
    "## Creating a speech to text model with IBM Watson"
   ]
  },
  {
   "cell_type": "markdown",
   "metadata": {},
   "source": [
    "### Install and import libraries"
   ]
  },
  {
   "cell_type": "code",
   "execution_count": null,
   "metadata": {},
   "outputs": [],
   "source": [
    "!pip install ibm_watson"
   ]
  },
  {
   "cell_type": "code",
   "execution_count": 3,
   "metadata": {},
   "outputs": [],
   "source": [
    "from ibm_watson import SpeechToTextV1\n",
    "from ibm_cloud_sdk_core.authenticators import IAMAuthenticator"
   ]
  },
  {
   "cell_type": "markdown",
   "metadata": {},
   "source": [
    "### Set up model api key and url"
   ]
  },
  {
   "cell_type": "code",
   "execution_count": 6,
   "metadata": {},
   "outputs": [],
   "source": [
    "api_key = 'API KEY'\n",
    "url = 'URL'"
   ]
  },
  {
   "cell_type": "markdown",
   "metadata": {},
   "source": [
    "### Create model"
   ]
  },
  {
   "cell_type": "code",
   "execution_count": 15,
   "metadata": {},
   "outputs": [],
   "source": [
    "authenticator = IAMAuthenticator(api_key)\n",
    "STT = SpeechToTextV1(authenticator=authenticator)\n",
    "STT.set_service_url(url)"
   ]
  },
  {
   "cell_type": "markdown",
   "metadata": {},
   "source": [
    "### Open audio and convert speech to text"
   ]
  },
  {
   "cell_type": "code",
   "execution_count": 55,
   "metadata": {},
   "outputs": [],
   "source": [
    "# Convert speech\n",
    "with open('27 Track 27.mp3', 'rb') as f:\n",
    "    res = STT.recognize(audio=f, content_type='audio/mp3', model='en-GB_NarrowbandModel').get_result()"
   ]
  },
  {
   "cell_type": "code",
   "execution_count": 56,
   "metadata": {},
   "outputs": [
    {
     "data": {
      "text/plain": [
       "{'result_index': 0,\n",
       " 'results': [{'final': True,\n",
       "   'alternatives': [{'transcript': 'lesson thirty ', 'confidence': 0.84}]},\n",
       "  {'final': True,\n",
       "   'alternatives': [{'transcript': 'get well soon ', 'confidence': 0.98}]},\n",
       "  {'final': True,\n",
       "   'alternatives': [{'transcript': 'lesson thirty ', 'confidence': 0.79}]},\n",
       "  {'final': True,\n",
       "   'alternatives': [{'transcript': 'listening one ', 'confidence': 0.94}]},\n",
       "  {'final': True,\n",
       "   'alternatives': [{'transcript': \"hi Nick you don't look too good no \",\n",
       "     'confidence': 0.98}]},\n",
       "  {'final': True,\n",
       "   'alternatives': [{'transcript': \"I feel terrible what's the matter I've got a splitting headache my body aches all over \",\n",
       "     'confidence': 0.91}]},\n",
       "  {'final': True,\n",
       "   'alternatives': [{'transcript': \"DHEA it sounds like fluting me why don't you go home \",\n",
       "     'confidence': 0.73}]},\n",
       "  {'final': True,\n",
       "   'alternatives': [{'transcript': 'too much work to do ',\n",
       "     'confidence': 1.0}]},\n",
       "  {'final': True,\n",
       "   'alternatives': [{'transcript': 'lesson thirty ', 'confidence': 0.75}]},\n",
       "  {'final': True,\n",
       "   'alternatives': [{'transcript': 'listening to ', 'confidence': 0.97}]},\n",
       "  {'final': True,\n",
       "   'alternatives': [{'transcript': \"you don't look very well \",\n",
       "     'confidence': 0.98}]},\n",
       "  {'final': True,\n",
       "   'alternatives': [{'transcript': 'are you alright ', 'confidence': 0.59}]},\n",
       "  {'final': True,\n",
       "   'alternatives': [{'transcript': '%HESITATION two year ',\n",
       "     'confidence': 0.86}]},\n",
       "  {'final': True,\n",
       "   'alternatives': [{'transcript': \"I've got a splitting headache \",\n",
       "     'confidence': 0.97}]},\n",
       "  {'final': True,\n",
       "   'alternatives': [{'transcript': 'my bag ', 'confidence': 0.83}]},\n",
       "  {'final': True,\n",
       "   'alternatives': [{'transcript': 'I feel terrible ', 'confidence': 0.99}]},\n",
       "  {'final': True,\n",
       "   'alternatives': [{'transcript': \"I've gotten awful cold \",\n",
       "     'confidence': 0.81}]},\n",
       "  {'final': True,\n",
       "   'alternatives': [{'transcript': 'lesson thirty ', 'confidence': 0.77}]},\n",
       "  {'final': True,\n",
       "   'alternatives': [{'transcript': 'listening three ', 'confidence': 0.95}]},\n",
       "  {'final': True,\n",
       "   'alternatives': [{'transcript': 'one ', 'confidence': 0.88}]},\n",
       "  {'final': True,\n",
       "   'alternatives': [{'transcript': \"you don't look very well the euro \",\n",
       "     'confidence': 0.8}]},\n",
       "  {'final': True,\n",
       "   'alternatives': [{'transcript': \"not really I've got awful back eight porting jobmatch print no thanks I've just taken some I'll be fine \",\n",
       "     'confidence': 0.78}]},\n",
       "  {'final': True, 'alternatives': [{'transcript': 'to ', 'confidence': 0.99}]},\n",
       "  {'final': True,\n",
       "   'alternatives': [{'transcript': \"no I'm fine \", 'confidence': 0.99}]},\n",
       "  {'final': True,\n",
       "   'alternatives': [{'transcript': 'eight six Georgia so for this I know that one will go soon ',\n",
       "     'confidence': 0.62}]},\n",
       "  {'final': True,\n",
       "   'alternatives': [{'transcript': 'three ', 'confidence': 0.99}]},\n",
       "  {'final': True,\n",
       "   'alternatives': [{'transcript': \"that's over twenty minutes now on though but I cont stop drinking a glass of water very slowly \",\n",
       "     'confidence': 0.93}]},\n",
       "  {'final': True,\n",
       "   'alternatives': [{'transcript': \"it always works for me okay I'll try to \",\n",
       "     'confidence': 0.85}]}]}"
      ]
     },
     "execution_count": 56,
     "metadata": {},
     "output_type": "execute_result"
    }
   ],
   "source": [
    "res"
   ]
  },
  {
   "cell_type": "code",
   "execution_count": 58,
   "metadata": {},
   "outputs": [
    {
     "data": {
      "text/plain": [
       "['lesson thirty ',\n",
       " 'get well soon ',\n",
       " 'lesson thirty ',\n",
       " 'listening one ',\n",
       " \"hi Nick you don't look too good no \",\n",
       " \"I feel terrible what's the matter I've got a splitting headache my body aches all over \",\n",
       " \"DHEA it sounds like fluting me why don't you go home \",\n",
       " 'too much work to do ',\n",
       " 'lesson thirty ',\n",
       " 'listening to ',\n",
       " \"you don't look very well \",\n",
       " 'are you alright ',\n",
       " '%HESITATION two year ',\n",
       " \"I've got a splitting headache \",\n",
       " 'my bag ',\n",
       " 'I feel terrible ',\n",
       " \"I've gotten awful cold \",\n",
       " 'lesson thirty ',\n",
       " 'listening three ',\n",
       " 'one ',\n",
       " \"you don't look very well the euro \",\n",
       " \"not really I've got awful back eight porting jobmatch print no thanks I've just taken some I'll be fine \",\n",
       " 'to ',\n",
       " \"no I'm fine \",\n",
       " 'eight six Georgia so for this I know that one will go soon ',\n",
       " 'three ',\n",
       " \"that's over twenty minutes now on though but I cont stop drinking a glass of water very slowly \",\n",
       " \"it always works for me okay I'll try to \"]"
      ]
     },
     "execution_count": 58,
     "metadata": {},
     "output_type": "execute_result"
    }
   ],
   "source": [
    "# Cleaning\n",
    "text = []\n",
    "for i in range(len(res['results'])):\n",
    "    text.append(res['results'][i]['alternatives'][0]['transcript'])\n",
    "text"
   ]
  },
  {
   "cell_type": "markdown",
   "metadata": {},
   "source": [
    "### Export text to txt file"
   ]
  },
  {
   "cell_type": "code",
   "execution_count": 59,
   "metadata": {},
   "outputs": [],
   "source": [
    "with open('output.txt', 'w') as out:\n",
    "    out.writelines(text)"
   ]
  },
  {
   "cell_type": "code",
   "execution_count": null,
   "metadata": {},
   "outputs": [],
   "source": []
  }
 ],
 "metadata": {
  "kernelspec": {
   "display_name": "Python 3",
   "language": "python",
   "name": "python3"
  },
  "language_info": {
   "codemirror_mode": {
    "name": "ipython",
    "version": 3
   },
   "file_extension": ".py",
   "mimetype": "text/x-python",
   "name": "python",
   "nbconvert_exporter": "python",
   "pygments_lexer": "ipython3",
   "version": "3.7.4"
  }
 },
 "nbformat": 4,
 "nbformat_minor": 2
}
